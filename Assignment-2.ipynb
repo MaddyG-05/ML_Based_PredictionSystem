{
 "cells": [
  {
   "cell_type": "code",
   "execution_count": 1,
   "id": "1a1ebe1d",
   "metadata": {},
   "outputs": [],
   "source": [
    "#IMPORTS\n",
    "\n",
    "from sklearn.linear_model import LogisticRegression\n",
    "from sklearn.model_selection import train_test_split\n",
    "from sklearn.metrics import confusion_matrix\n",
    "from sklearn.metrics import classification_report\n",
    "import matplotlib.pyplot as plt\n",
    "import numpy as np\n",
    "import pandas as pd"
   ]
  },
  {
   "cell_type": "code",
   "execution_count": 10,
   "id": "4691b67d",
   "metadata": {},
   "outputs": [],
   "source": [
    "df = pd.read_excel('Data for IIS-Lab Assignment.xlsx')\n",
    "\n",
    "# df.drop(df.columns[[0, 2, 5, 13, 15, 16]], axis = 1, inplace = True)\n",
    "# df.drop(df.columns[[0, 2, 13, 14, 15]], axis = 1, inplace = True)\n",
    "# df.drop(df.columns[[0, 2, 7, 13]], axis = 1, inplace = True)\n",
    "\n",
    "df.drop(df.columns[[0, 2, 13]], axis = 1, inplace = True)\n",
    "\n",
    "df = pd.get_dummies(df)\n",
    "\n",
    "y = df['High-Salary']\n",
    "x = df.drop(['High-Salary'], axis = 1)\n",
    "\n",
    "x_train, x_test, y_train, y_test = train_test_split(x,y,train_size = 0.9, shuffle= False)"
   ]
  },
  {
   "cell_type": "code",
   "execution_count": 11,
   "id": "14ba96f5",
   "metadata": {},
   "outputs": [
    {
     "data": {
      "text/plain": [
       "LogisticRegression(max_iter=50000)"
      ]
     },
     "execution_count": 11,
     "metadata": {},
     "output_type": "execute_result"
    }
   ],
   "source": [
    "model = LogisticRegression(max_iter = 50000)\n",
    "model.fit(x_train, y_train)"
   ]
  },
  {
   "cell_type": "code",
   "execution_count": 12,
   "id": "1aeab6ed",
   "metadata": {},
   "outputs": [
    {
     "name": "stdout",
     "output_type": "stream",
     "text": [
      "True Value - \n"
     ]
    },
    {
     "data": {
      "image/png": "[encoded data removed]",
      "text/plain": [
       "<Figure size 432x288 with 1 Axes>"
      ]
     },
     "metadata": {
      "needs_background": "light"
     },
     "output_type": "display_data"
    },
    {
     "name": "stdout",
     "output_type": "stream",
     "text": [
      "Predicted Value - \n"
     ]
    },
    {
     "data": {
      "image/png": "[encoded data removed]",
      "text/plain": [
       "<Figure size 432x288 with 1 Axes>"
      ]
     },
     "metadata": {
      "needs_background": "light"
     },
     "output_type": "display_data"
    }
   ],
   "source": [
    "prediction = model.predict(x_test)\n",
    "x_arr = []\n",
    "for i in range(25):\n",
    "    x_arr.append(i)\n",
    "\n",
    "print(\"True Value - \")\n",
    "plt.scatter(x_arr, y_test[0:25], c = 'blue')\n",
    "plt.show()\n",
    "print(\"Predicted Value - \")\n",
    "plt.scatter(x_arr, prediction[0:25], c = 'red')\n",
    "plt.show()"
   ]
  },
  {
   "cell_type": "code",
   "execution_count": 13,
   "id": "4a95415c",
   "metadata": {},
   "outputs": [
    {
     "name": "stdout",
     "output_type": "stream",
     "text": [
      "Accuracy of my Logistic Regression model is -  72.5 %\n"
     ]
    }
   ],
   "source": [
    "print(\"Accuracy of my Logistic Regression model is - \",model.score(x_test, y_test)*100,\"%\")"
   ]
  },
  {
   "cell_type": "code",
   "execution_count": 14,
   "id": "e8bb2cfd",
   "metadata": {},
   "outputs": [
    {
     "name": "stdout",
     "output_type": "stream",
     "text": [
      "CONFUSION MATRIX - \n",
      "\t [135  51]\n",
      "\t [ 59 155]\n"
     ]
    }
   ],
   "source": [
    "prediction.reshape(1, -1)\n",
    "\n",
    "#Printing Confusion Matrix\n",
    "\n",
    "cm = confusion_matrix(y_test, prediction)\n",
    "print(\"CONFUSION MATRIX - \")\n",
    "for i in cm:\n",
    "    print('\\t',i)"
   ]
  },
  {
   "cell_type": "code",
   "execution_count": 15,
   "id": "c50e25ab",
   "metadata": {},
   "outputs": [
    {
     "name": "stdout",
     "output_type": "stream",
     "text": [
      "NORMALIZED CONFUSION MATRIX - \n",
      "\t [0.72580645 0.27419355]\n",
      "\t [0.27570093 0.72429907]\n"
     ]
    }
   ],
   "source": [
    "#Normalising the Confusion Matrix\n",
    "\n",
    "cm = cm.astype('float') / cm.sum(axis=1)[:, np.newaxis]\n",
    "print(\"NORMALIZED CONFUSION MATRIX - \")\n",
    "for i in cm:\n",
    "    print('\\t',i)"
   ]
  },
  {
   "cell_type": "code",
   "execution_count": 16,
   "id": "d0376a29",
   "metadata": {},
   "outputs": [
    {
     "name": "stdout",
     "output_type": "stream",
     "text": [
      "CLASS-WISE ACCURACIES - \n",
      "\tAcuuracy of 0 is - 72.58064516129032 %\n",
      "\tAcuuracy of 1 is - 72.42990654205607 %\n"
     ]
    }
   ],
   "source": [
    "# Printing Class-Wise Accuracies\n",
    "cw_acc = cm.diagonal()\n",
    "print(\"CLASS-WISE ACCURACIES - \")\n",
    "for i in range(len(cw_acc)):\n",
    "    print(\"\\tAcuuracy of\",i,\"is -\", cw_acc[i]*100,\"%\")"
   ]
  },
  {
   "cell_type": "code",
   "execution_count": 9,
   "id": "f6145c6e",
   "metadata": {},
   "outputs": [
    {
     "name": "stdout",
     "output_type": "stream",
     "text": [
      "              precision    recall  f1-score   support\n",
      "\n",
      "           1       0.73      0.71      0.72       214\n",
      "           2       0.00      0.00      0.00         0\n",
      "           3       0.00      0.00      0.00         0\n",
      "\n",
      "   micro avg       0.73      0.71      0.72       214\n",
      "   macro avg       0.24      0.24      0.24       214\n",
      "weighted avg       0.73      0.71      0.72       214\n",
      "\n"
     ]
    }
   ],
   "source": [
    "print(classification_report(y_test, prediction, labels=[1, 2, 3], zero_division=0))"
   ]
  },
  {
   "cell_type": "code",
   "execution_count": null,
   "id": "99a87a0a",
   "metadata": {},
   "outputs": [],
   "source": []
  }
 ],
 "metadata": {
  "kernelspec": {
   "display_name": "Python 3 (ipykernel)",
   "language": "python",
   "name": "python3"
  },
  "language_info": {
   "codemirror_mode": {
    "name": "ipython",
    "version": 3
   },
   "file_extension": ".py",
   "mimetype": "text/x-python",
   "name": "python",
   "nbconvert_exporter": "python",
   "pygments_lexer": "ipython3",
   "version": "3.9.6"
  }
 },
 "nbformat": 4,
 "nbformat_minor": 5
}
